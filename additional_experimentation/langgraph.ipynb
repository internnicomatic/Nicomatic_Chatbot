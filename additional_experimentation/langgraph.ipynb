{
 "cells": [
  {
   "cell_type": "code",
   "execution_count": 1,
   "metadata": {},
   "outputs": [],
   "source": [
    "# Initialize the LLM\n",
    "local_llm='llama3.1'"
   ]
  },
  {
   "cell_type": "code",
   "execution_count": 2,
   "metadata": {},
   "outputs": [],
   "source": [
    "# Load parsed data which is in the form of Markdown\n",
    "from llama_index.core import SimpleDirectoryReader\n",
    "markdown_files = SimpleDirectoryReader(\n",
    "    \"C:/Users/s.vijaykumar/Desktop/skanda/bot/dataset/extracted_best/\").load_data()"
   ]
  },
  {
   "cell_type": "code",
   "execution_count": 3,
   "metadata": {},
   "outputs": [],
   "source": [
    "# load structured data which is in JSON format\n",
    "import os\n",
    "from llama_index.readers.json import JSONReader\n",
    "\n",
    "reader = JSONReader()\n",
    "directory_path = \"C:/Users/s.vijaykumar/Desktop/skanda/bot/dataset/extracted_best/\"\n",
    "json_files = []\n",
    "for filename in os.listdir(directory_path):\n",
    "    if filename.endswith(\".json\"):\n",
    "        file_path = os.path.join(directory_path, filename)\n",
    "        json_files.extend(reader.load_data(input_file=file_path, extra_info={}))\n",
    "documents= markdown_files+json_files"
   ]
  },
  {
   "cell_type": "code",
   "execution_count": 4,
   "metadata": {},
   "outputs": [],
   "source": [
    "## Restructure the metadata\n",
    "from langchain.docstore.document import Document\n",
    "new_documents = []\n",
    "for document in documents:\n",
    "    metadata = {\n",
    "        'source': document.metadata,\n",
    "        'Doc_id': document.id_\n",
    "    }\n",
    "    page_content = document.text\n",
    "    new_document = Document(metadata=metadata, page_content=page_content)\n",
    "    new_documents.append(new_document)"
   ]
  },
  {
   "cell_type": "code",
   "execution_count": 5,
   "metadata": {},
   "outputs": [],
   "source": [
    "## Preprocessing:\n",
    "from transformers import AutoTokenizer\n",
    "MARKDOWN_SEPARATORS = [\n",
    "    \"\\n#{1,6} \",\n",
    "    \"```\\n\",\n",
    "    \"\\n\\\\*\\\\*\\\\*+\\n\",\n",
    "    \"\\n---+\\n\",\n",
    "    \"\\n___+\\n\",\n",
    "    \"\\n\\n\",\n",
    "    \"\\n\",\n",
    "    \" \",\n",
    "    \"\",\"[\",\"]\"\n",
    "]\n",
    "## Remove define separates and filterout unnecessary space\n",
    "from langchain.text_splitter import RecursiveCharacterTextSplitter\n",
    "tokenizer = AutoTokenizer.from_pretrained(\"Alibaba-NLP/gte-large-en-v1.5\")\n",
    "## Use an embedding model to chunk data \n",
    "text_splitter = RecursiveCharacterTextSplitter.from_huggingface_tokenizer(\n",
    "    tokenizer,\n",
    "    chunk_size=512,\n",
    "    chunk_overlap=50,\n",
    "    add_start_index=True,\n",
    "    strip_whitespace=False,\n",
    "    separators=MARKDOWN_SEPARATORS,\n",
    ")\n",
    "from tqdm import tqdm\n",
    "documents2 = text_splitter.split_documents(new_documents)\n",
    "\n",
    "## unique texts\n",
    "# docs_processed3 = []\n",
    "# unique_texts = {}\n",
    "# for doc in tqdm(documents2):\n",
    "#     new_docs = text_splitter.split_documents([doc])\n",
    "#     for new_doc in new_docs:\n",
    "#         docs_processed3.append(new_doc)"
   ]
  },
  {
   "cell_type": "code",
   "execution_count": 6,
   "metadata": {},
   "outputs": [],
   "source": [
    "from langchain_community.vectorstores import FAISS\n",
    "from langchain_nomic.embeddings import NomicEmbeddings\n",
    "from langchain_community.vectorstores.utils import DistanceStrategy\n",
    "# Add embeded data to vectorDB\n",
    "embedding_model = NomicEmbeddings(model=\"nomic-embed-text-v1\", inference_mode=\"local\")\n",
    "vectordb = FAISS.from_documents(\n",
    "    documents= documents2,\n",
    "    embedding=embedding_model,\n",
    "    distance_strategy=DistanceStrategy.COSINE   \n",
    ")"
   ]
  },
  {
   "cell_type": "code",
   "execution_count": 7,
   "metadata": {},
   "outputs": [],
   "source": [
    "## Define a  retriever\n",
    "retriever=vectordb.as_retriever()"
   ]
  },
  {
   "cell_type": "code",
   "execution_count": 8,
   "metadata": {},
   "outputs": [
    {
     "name": "stdout",
     "output_type": "stream",
     "text": [
      "{'score': 'yes'}\n"
     ]
    }
   ],
   "source": [
    "### Retrieval Grader\n",
    "from langchain_community.chat_models import ChatOllama\n",
    "from langchain_core.output_parsers import JsonOutputParser\n",
    "from langchain_core.prompts import PromptTemplate\n",
    "## define LLM with output format\n",
    "llm = ChatOllama(model=local_llm, format=\"json\", temperature=0)\n",
    "## Prompt in the format of llama3\n",
    "prompt = PromptTemplate(\n",
    "    template=\"\"\"\n",
    "    Here is the retrieved document: \\n\\n {document} \\n\\n\n",
    "    <|begin_of_text|><|start_header_id|>system<|end_header_id|> You are a grader assessing relevance \n",
    "    of a retrieved document to a user question. If the document contains keywords related to the user question, \n",
    "    grade it as relevant. It does not need to be a stringent test. The goal is to filter out erroneous retrievals. \\n\n",
    "    Give a binary score 'yes' or 'no' score to indicate whether the document is relevant to the question. \\n\n",
    "    Provide the binary score as a JSON with a single key 'score' and no premable or explanation.\n",
    "     <|eot_id|><|start_header_id|>user<|end_header_id|>\n",
    "    \n",
    "    Here is the user question: {question} \\n <|eot_id|><|start_header_id|>assistant<|end_header_id|>\n",
    "    \"\"\",input_variables=[\"question\", \"document\"])\n",
    "## Retrieval grader chain\n",
    "retrieval_grader = prompt | llm | JsonOutputParser()\n",
    "question = \"DMM connector pitch size\"\n",
    "## Retirever gives output in list with most relevant results\n",
    "docs = retriever.invoke(question)\n",
    "## To get the relevant document\n",
    "doc_txt = docs[1].page_content\n",
    "## Push to LLM to check and verify if pulled data is right or not\n",
    "print(retrieval_grader.invoke({\"question\": question, \"document\": doc_txt}))"
   ]
  },
  {
   "cell_type": "code",
   "execution_count": 9,
   "metadata": {},
   "outputs": [
    {
     "name": "stdout",
     "output_type": "stream",
     "text": [
      "2mm (also known as SUB-D TYPE)\n"
     ]
    }
   ],
   "source": [
    "### Generate\n",
    "from langchain_core.output_parsers import StrOutputParser\n",
    "from langchain_core.prompts import PromptTemplate\n",
    "# Prompt\n",
    "prompt = PromptTemplate(\n",
    "    template=\"\"\"\n",
    "    Context: {context} <|begin_of_text|><|start_header_id|>system<|end_header_id|> You are an assistant for question-answering tasks. \n",
    "    Use the following pieces of retrieved context to answer the question. If you don't know the answer, just say that you don't know. \n",
    "    keep the answer concise <|eot_id|><|start_header_id|>user<|end_header_id|>\n",
    "    Question: {question} \n",
    "    \n",
    "    Answer: <|eot_id|><|start_header_id|>assistant<|end_header_id|>\"\"\",\n",
    "    input_variables=[\"question\", \"document\"],\n",
    ")\n",
    "llm = ChatOllama(model=local_llm, temperature=0)\n",
    "## Join all the results in the retrieved list\n",
    "def format_docs(docs):\n",
    "    return \"\\n\\n\".join(doc.page_content for doc in docs)\n",
    "rag_chain = prompt | llm | StrOutputParser()\n",
    "question = \"What is the pitch size of CMM connector?\"\n",
    "docs = retriever.invoke(question)\n",
    "generation = rag_chain.invoke({\"context\": docs, \"question\": question})\n",
    "print(generation)"
   ]
  },
  {
   "cell_type": "code",
   "execution_count": 10,
   "metadata": {},
   "outputs": [
    {
     "data": {
      "text/plain": [
       "{'score': 'yes'}"
      ]
     },
     "execution_count": 10,
     "metadata": {},
     "output_type": "execute_result"
    }
   ],
   "source": [
    "### Hallucination Grader\n",
    "llm = ChatOllama(model=local_llm, format=\"json\", temperature=0)\n",
    "## Prompt crafted to tell LLM to check whether the generated output is inline with what ever there is in the docs\n",
    "prompt = PromptTemplate(template=\"\"\"\\n ------- \\n{documents}\\n ------- \\n\n",
    "    <|begin_of_text|><|start_header_id|>system<|end_header_id|> You are a grader assessing whether \n",
    "    an answer is grounded in / supported by a set of facts. Give a binary 'yes' or 'no' score to indicate \n",
    "    whether the answer is grounded in / supported by a set of facts. Provide the binary score as a JSON with a \n",
    "    single key 'score' and no preamble or explanation. <|eot_id|><|start_header_id|>user<|end_header_id|>\n",
    "    Here are the facts:\n",
    "    Here is the answer: {generation}  <|eot_id|><|start_header_id|>assistant<|end_header_id|>\"\"\",\n",
    "    input_variables=[\"documents\",\"generation\"]\n",
    ")\n",
    "hallucination_check = prompt | llm | JsonOutputParser()\n",
    "hallucination_check.invoke({\"documents\": docs, \"generation\": generation})"
   ]
  },
  {
   "cell_type": "code",
   "execution_count": 11,
   "metadata": {},
   "outputs": [
    {
     "data": {
      "text/plain": [
       "{'score': 'no'}"
      ]
     },
     "execution_count": 11,
     "metadata": {},
     "output_type": "execute_result"
    }
   ],
   "source": [
    "### Answer Grader\n",
    "llm = ChatOllama(model=local_llm, format=\"json\", temperature=0)\n",
    "## Prompt crafter to check if the answer provided actually answers the user's question or not \n",
    "prompt = PromptTemplate(\n",
    "    template=\"\"\"<|begin_of_text|><|start_header_id|>system<|end_header_id|> You are a grader assessing whether an \n",
    "    answer is useful to resolve a question. Give a binary score 'yes' or 'no' to indicate whether the answer is \n",
    "    useful to resolve a question. Provide the binary score as a JSON with a single key 'score' and no preamble or explanation.\n",
    "     <|eot_id|><|start_header_id|>user<|end_header_id|> Here is the answer:\n",
    "    \\n ------- \\n\n",
    "    {generation} \n",
    "    \\n ------- \\n\n",
    "    Here is the question: {question} <|eot_id|><|start_header_id|>assistant<|end_header_id|>\"\"\",\n",
    "    input_variables=[\"generation\", \"question\"],\n",
    ")\n",
    "answer_grader = prompt | llm | JsonOutputParser()\n",
    "answer_grader.invoke({\"question\": question, \"generation\": generation})"
   ]
  },
  {
   "cell_type": "code",
   "execution_count": 12,
   "metadata": {},
   "outputs": [
    {
     "name": "stdout",
     "output_type": "stream",
     "text": [
      "{'datasource': 'vectorstore'}\n"
     ]
    }
   ],
   "source": [
    "### Path router\n",
    "from langchain_community.chat_models import ChatOllama\n",
    "from langchain_core.output_parsers import JsonOutputParser\n",
    "from langchain_core.prompts import PromptTemplate\n",
    "llm = ChatOllama(model=local_llm, format=\"json\", temperature=0)\n",
    "## Pormpt crafted to go to retirever if answer is related to Nicomatic's connectors\n",
    "prompt = PromptTemplate(\n",
    "    template=\"\"\"<|begin_of_text|><|start_header_id|>system<|end_header_id|> You are an expert at routing a \n",
    "    user question to a vectorstore or web search. Use the vectorstore for questions on Nicomatic's connectors, CMM, DMM, EMM and AMM.\n",
    "    You do not need to be stringent with the keywords in the question related to these topics. \n",
    "    Otherwise, use web-search. Give a binary choice 'web_search'or 'vectorstore' based on the question. \n",
    "    Return the a JSON with a single key 'datasource' and no premable or explanation. \n",
    "    Question to route: {question} <|eot_id|><|start_header_id|>assistant<|end_header_id|>\"\"\",\n",
    "    input_variables=[\"question\"])\n",
    "question_router = prompt | llm | JsonOutputParser()\n",
    "question = \"what is the EMM connector pitch size\"\n",
    "print(question_router.invoke({\"question\": question}))"
   ]
  },
  {
   "cell_type": "code",
   "execution_count": 13,
   "metadata": {},
   "outputs": [],
   "source": [
    "## Define web search tool\n",
    "from langchain_community.tools.tavily_search import TavilySearchResults\n",
    "web= TavilySearchResults(k=4)"
   ]
  },
  {
   "cell_type": "code",
   "execution_count": 14,
   "metadata": {},
   "outputs": [],
   "source": [
    "from pprint import pprint\n",
    "from typing import List\n",
    "from langchain_core.documents import Document\n",
    "from typing_extensions import TypedDict\n",
    "from langgraph.graph import END, StateGraph, START\n",
    "\n",
    "## Main Workflow\n",
    "## Using Docstring to give hints and drive LLM to the right output\n",
    "class GraphState(TypedDict):\n",
    "    \"\"\"\n",
    "    Represents the state of our graph.\n",
    "    Attributes:\n",
    "        question: question\n",
    "        generation: LLM generation\n",
    "        web_search: whether to add search\n",
    "        documents: list of documents\n",
    "    \"\"\"\n",
    "    question: str\n",
    "    generation: str\n",
    "    web_search: str\n",
    "    documents: List[str]\n",
    "\n",
    "### Nodes of the graph\n",
    "## retireves document \n",
    "def retrieve(state):\n",
    "    \"\"\"\n",
    "    Retrieve documents from vectorstore\n",
    "    Args:\n",
    "        state (dict): The current graph state\n",
    "    Returns:\n",
    "        state (dict): New key added to state, documents, that contains retrieved documents\n",
    "    \"\"\"\n",
    "    print(\"Retrieving info from docs....\")\n",
    "    question = state[\"question\"]\n",
    "    documents = retriever.invoke(question)\n",
    "    return {\"documents\": documents, \"question\": question}\n",
    "## Generates response\n",
    "def generate(state):\n",
    "    \"\"\"\n",
    "    Generate answer using RAG on retrieved documents\n",
    "    Args:\n",
    "        state (dict): The current graph state\n",
    "    Returns:\n",
    "        state (dict): New key added to state, generation, that contains LLM generation\n",
    "    \"\"\"\n",
    "    print(\"LLM generating output....\")\n",
    "    question = state[\"question\"]\n",
    "    documents = state[\"documents\"]\n",
    "    generation = rag_chain.invoke({\"context\": documents, \"question\": question})\n",
    "    return {\"documents\": documents, \"question\": question, \"generation\": generation}\n",
    "# Checks if the generated response is right or not\n",
    "def grade_documents(state):\n",
    "    \"\"\"\n",
    "    Determines whether the retrieved documents are relevant to the question\n",
    "    If any document is not relevant, we will set a flag to run web search\n",
    "    Args:\n",
    "        state (dict): The current graph state\n",
    "    Returns:\n",
    "        state (dict): Filtered out irrelevant documents and updated web_search state\n",
    "    \"\"\"\n",
    "    print(\"Checking if any docs is relevant to the question....\")\n",
    "    question = state[\"question\"]\n",
    "    documents = state[\"documents\"]\n",
    "    filtered_docs = []\n",
    "    ## Websearch set to No\n",
    "    web_search = \"No\"\n",
    "    for d in documents:\n",
    "        score = retrieval_grader.invoke(\n",
    "            {\"question\": question, \"document\": d.page_content}\n",
    "        )\n",
    "        grade = score[\"score\"]\n",
    "        # Document is relevant\n",
    "        if grade.lower() == \"yes\":\n",
    "            print(\"---grade: docs is relevant---\")\n",
    "            filtered_docs.append(d)\n",
    "        # Document not relevant\n",
    "        else:\n",
    "            print(\"---grade: docs not relevant---\")\n",
    "            web_search = \"Yes\"\n",
    "            continue\n",
    "    return {\"documents\": filtered_docs, \"question\": question, \"web_search\": web_search}\n",
    "## Searches web and adds into doc\n",
    "def web_search(state):\n",
    "    \"\"\"\n",
    "    Web search based based on the question\n",
    "    Args:\n",
    "        state (dict): The current graph state\n",
    "    Returns:\n",
    "        state (dict): Appended web results to documents\n",
    "    \"\"\"\n",
    "    print(\"---WEB SEARCH---\")\n",
    "    question = state[\"question\"]\n",
    "    documents = state[\"documents\"]\n",
    "    docs = web.invoke({\"query\": question})\n",
    "    web_results = \"\\n\".join([d[\"content\"] for d in docs])\n",
    "    web_results = Document(page_content=web_results)\n",
    "    if documents is not None:\n",
    "        documents.append(web_results)\n",
    "    else:\n",
    "        documents = [web_results]\n",
    "    return {\"documents\": documents, \"question\": question}\n",
    "### Conditional Nodes\n",
    "## routs to either retierver or web search\n",
    "def route_question(state):\n",
    "    \"\"\"\n",
    "    Route question to web search or RAG.\n",
    "    Args:\n",
    "        state (dict): The current graph state\n",
    "    Returns:\n",
    "        str: Next node to call\n",
    "    \"\"\"\n",
    "    print(\"----Routing your question----\")\n",
    "    question = state[\"question\"]\n",
    "    print(question)\n",
    "    source = question_router.invoke({\"question\": question})\n",
    "    print(source)\n",
    "    print(source[\"datasource\"])\n",
    "    if source[\"datasource\"] == \"web_search\":\n",
    "        print(\"---Routing your question to the internet---\")\n",
    "        return \"websearch\"\n",
    "    elif source[\"datasource\"] == \"vectorstore\":\n",
    "        print(\"---Routing your question to the doc retriever---\")\n",
    "        return \"vectorstore\"\n",
    "## Routs to either generate response from LLM or search web\n",
    "def decide_to_generate(state):\n",
    "    \"\"\"\n",
    "    Determines whether to generate an answer, or add web search\n",
    "    Args:\n",
    "        state (dict): The current graph state\n",
    "    Returns:\n",
    "        str: Binary decision for next node to call\n",
    "    \"\"\"\n",
    "    print(\"Checking with docs...\")\n",
    "    state[\"question\"]\n",
    "    web_search = state[\"web_search\"]\n",
    "    state[\"documents\"]\n",
    "    if web_search == \"Yes\":\n",
    "        print(\n",
    "            \"Decision: none of the docs aligns with your question, lets try the internet---\"\n",
    "        )\n",
    "        return \"websearch\"\n",
    "    else:\n",
    "        print(\"--DECISION: GENERATE---\")\n",
    "        return \"generate\"\n",
    "## Check if answer is suitable for the asked question and is inline with the info inside the documents\n",
    "def answer_good_or_not(state):\n",
    "    \"\"\"\n",
    "    Determines whether the generation is grounded in the document and answers question.\n",
    "    Args:\n",
    "        state (dict): The current graph state\n",
    "    Returns:\n",
    "        str: Decision for next node to call\n",
    "    \"\"\"\n",
    "    print(\"---check hallucinations---\")\n",
    "    question = state[\"question\"]\n",
    "    documents = state[\"documents\"]\n",
    "    generation = state[\"generation\"]\n",
    "    # Check hallucination\n",
    "    score = hallucination_check.invoke({\"documents\": documents, \"generation\": generation})\n",
    "    grade = score[\"score\"]\n",
    "    if grade == \"yes\":\n",
    "        print(\"---decision: generated output is relevant to the docs---\")\n",
    "        # Check question-answering\n",
    "        print(\"---grade generated output with question asked---\")\n",
    "        score = answer_grader.invoke({\"question\": question, \"generation\": generation})\n",
    "        grade = score[\"score\"]\n",
    "        if grade == \"yes\":\n",
    "            print(\"---decision: generated output answers the question correctly---\")\n",
    "            return \"useful\"\n",
    "        else:\n",
    "            print(\"---decision: generated output does not answer the question---\")\n",
    "            return \"not useful\"\n",
    "    else:\n",
    "        pprint(\"---decision: generated output is not relevant, retry---\")\n",
    "        return \"not generated right\"\n",
    "\n",
    "workflow = StateGraph(GraphState)\n",
    "\n",
    "# Define the nodes\n",
    "workflow.add_node(\"websearch\", web_search)\n",
    "workflow.add_node(\"retrieve\", retrieve)\n",
    "workflow.add_node(\"grade_documents\", grade_documents)  \n",
    "workflow.add_node(\"generate\", generate)  "
   ]
  },
  {
   "cell_type": "code",
   "execution_count": 15,
   "metadata": {},
   "outputs": [],
   "source": [
    "# Building the actual graph DAG\n",
    "workflow.add_conditional_edges(\n",
    "    START,\n",
    "    route_question,\n",
    "    {\n",
    "        \"websearch\": \"websearch\",\n",
    "        \"vectorstore\": \"retrieve\"})\n",
    "workflow.add_edge(\"retrieve\", \"grade_documents\")\n",
    "workflow.add_conditional_edges(\n",
    "    \"grade_documents\",\n",
    "    decide_to_generate,\n",
    "    {\n",
    "        \"websearch\": \"websearch\",\n",
    "        \"generate\": \"generate\"})\n",
    "workflow.add_edge(\"websearch\", \"generate\")\n",
    "workflow.add_conditional_edges(\n",
    "    \"generate\",\n",
    "    answer_good_or_not,\n",
    "    {\n",
    "        \"not generated right\": \"generate\",\n",
    "        \"useful\": END,\n",
    "        \"not useful\": \"websearch\"})"
   ]
  },
  {
   "cell_type": "code",
   "execution_count": 24,
   "metadata": {},
   "outputs": [
    {
     "name": "stdout",
     "output_type": "stream",
     "text": [
      "----Routing your question----\n",
      "What is the pitch size of a CMM, DMM, EMM and AMM connect?\n",
      "{'datasource': 'vectorstore'}\n",
      "vectorstore\n",
      "---Routing your question to the doc retriever---\n",
      "Retrieving info from docs....\n",
      "'Finished running: retrieve:'\n",
      "Checking if any docs is relevant to the question....\n",
      "---grade: docs is relevant---\n",
      "---grade: docs is relevant---\n",
      "---grade: docs is relevant---\n",
      "---grade: docs is relevant---\n",
      "Checking with docs...\n",
      "--DECISION: GENERATE---\n",
      "'Finished running: grade_documents:'\n",
      "LLM generating output....\n",
      "---check hallucinations---\n",
      "---decision: generated output is relevant to the docs---\n",
      "---grade generated output with question asked---\n",
      "---decision: generated output does not answer the question---\n",
      "'Finished running: generate:'\n",
      "---WEB SEARCH---\n",
      "'Finished running: websearch:'\n",
      "LLM generating output....\n",
      "---check hallucinations---\n",
      "---decision: generated output is relevant to the docs---\n",
      "---grade generated output with question asked---\n",
      "---decision: generated output answers the question correctly---\n",
      "'Finished running: generate:'\n",
      "('According to the provided context:\\n'\n",
      " '\\n'\n",
      " '* CMM connector has a 2mm pitch.\\n'\n",
      " '* DMM connectors have a 2mm pitch (specifically designed for harsh '\n",
      " 'environments).\\n'\n",
      " '* EMM connectors have a 1.27mm pitch.\\n'\n",
      " '* AMM connectors also have a 1mm pitch.')\n"
     ]
    }
   ],
   "source": [
    "## Inference\n",
    "from pprint import pprint\n",
    "output= workflow.compile()\n",
    "\n",
    "inputs = {\"question\": \"What is the pitch size of a CMM, DMM, EMM and AMM connect?\"}\n",
    "for output in output.stream(inputs):\n",
    "    for key, value in output.items():\n",
    "        pprint(f\"Finished running: {key}:\")\n",
    "pprint(value[\"generation\"])"
   ]
  },
  {
   "cell_type": "code",
   "execution_count": 33,
   "metadata": {},
   "outputs": [],
   "source": []
  },
  {
   "cell_type": "code",
   "execution_count": 32,
   "metadata": {},
   "outputs": [
    {
     "name": "stdout",
     "output_type": "stream",
     "text": [
      "%%{init: {'flowchart': {'curve': 'linear'}}}%%\n",
      "graph TD;\n",
      "\t__start__([__start__]):::first\n",
      "\twebsearch(websearch)\n",
      "\tretrieve(retrieve)\n",
      "\tgrade_documents(grade_documents)\n",
      "\tgenerate(generate)\n",
      "\t__end__([__end__]):::last\n",
      "\tretrieve --> grade_documents;\n",
      "\twebsearch --> generate;\n",
      "\t__start__ -.-> websearch;\n",
      "\t__start__ -. &nbspvectorstore&nbsp .-> retrieve;\n",
      "\tgrade_documents -.-> websearch;\n",
      "\tgrade_documents -.-> generate;\n",
      "\tgenerate -. &nbspuseful&nbsp .-> __end__;\n",
      "\tgenerate -. &nbspnot useful&nbsp .-> websearch;\n",
      "\tgenerate -. &nbspnot generated right&nbsp .-> generate;\n",
      "\tclassDef default fill:#f2f0ff,line-height:1.2\n",
      "\tclassDef first fill-opacity:0\n",
      "\tclassDef last fill:#bfb6fc\n",
      "\n"
     ]
    }
   ],
   "source": [
    "app=workflow.compile()\n",
    "print(app.get_graph().draw_mermaid())"
   ]
  },
  {
   "cell_type": "code",
   "execution_count": 29,
   "metadata": {},
   "outputs": [
    {
     "data": {
      "image/jpeg": "[encoded data removed]",
      "text/plain": [
       "<IPython.core.display.Image object>"
      ]
     },
     "metadata": {},
     "output_type": "display_data"
    }
   ],
   "source": [
    "from IPython.display import Image, display\n",
    "from langchain_core.runnables.graph import CurveStyle, MermaidDrawMethod, NodeStyles\n",
    "\n",
    "display(\n",
    "    Image(\n",
    "        app.get_graph().draw_mermaid_png(\n",
    "            draw_method=MermaidDrawMethod.API,\n",
    "        )\n",
    "    )\n",
    ")"
   ]
  },
  {
   "cell_type": "code",
   "execution_count": null,
   "metadata": {},
   "outputs": [],
   "source": []
  }
 ],
 "metadata": {
  "kernelspec": {
   "display_name": "venv",
   "language": "python",
   "name": "python3"
  },
  "language_info": {
   "codemirror_mode": {
    "name": "ipython",
    "version": 3
   },
   "file_extension": ".py",
   "mimetype": "text/x-python",
   "name": "python",
   "nbconvert_exporter": "python",
   "pygments_lexer": "ipython3",
   "version": "3.12.4"
  }
 },
 "nbformat": 4,
 "nbformat_minor": 2
}
