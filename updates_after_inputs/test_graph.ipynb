{
 "cells": [
  {
   "cell_type": "code",
   "execution_count": 1,
   "metadata": {},
   "outputs": [],
   "source": [
    "## Tracing the code execution with lang smith\n",
    "from dotenv import load_dotenv\n",
    "import os\n",
    "load_dotenv()\n",
    "os.environ['LANGCHAIN_TRACING_V2']=\"true\"\n",
    "os.environ['LANGCHAIN_API_KEY']=\"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\"\n",
    "os.environ['LANGCHAIN_PROJECT']=\"lang graph\"\n",
    "os.environ['LANGCHAIN_ENDPOINT']=\"https://api.smith.langchain.com\""
   ]
  },
  {
   "cell_type": "code",
   "execution_count": 3,
   "metadata": {},
   "outputs": [],
   "source": [
    "## Ne04j credentials\n",
    "NEO4J_URI = \"neo4j+s://c4ce356c.databases.neo4j.io\"\n",
    "NEO4J_USERNAME = \"neo4j\"\n",
    "NEO4J_PASSWORD = \"HwCyeI-JYu1simYHLbqUXL_emE_O42dMV6PRE2StBSk\""
   ]
  },
  {
   "cell_type": "code",
   "execution_count": 4,
   "metadata": {},
   "outputs": [],
   "source": [
    "## Groq API key for accessing bigger models\n",
    "groq_api='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'"
   ]
  },
  {
   "cell_type": "code",
   "execution_count": 5,
   "metadata": {},
   "outputs": [],
   "source": [
    "## Initialize graph database\n",
    "from langchain_community.graphs import Neo4jGraph\n",
    "graph=Neo4jGraph(\n",
    "    url=NEO4J_URI,\n",
    "    username=NEO4J_USERNAME,\n",
    "    password=NEO4J_PASSWORD,\n",
    ")"
   ]
  },
  {
   "cell_type": "code",
   "execution_count": 7,
   "metadata": {},
   "outputs": [
    {
     "data": {
      "text/plain": [
       "ChatGroq(client=<groq.resources.chat.completions.Completions object at 0x00000203A21FA240>, async_client=<groq.resources.chat.completions.AsyncCompletions object at 0x00000203A21FADE0>, model_name='llama-3.1-70b-versatile', model_kwargs={}, groq_api_key=SecretStr('**********'))"
      ]
     },
     "execution_count": 7,
     "metadata": {},
     "output_type": "execute_result"
    }
   ],
   "source": [
    "## Initialize LLM  \n",
    "from langchain_groq import ChatGroq\n",
    "llm=ChatGroq(groq_api_key=groq_api,model_name=\"llama-3.1-70b-versatile\")\n",
    "llm"
   ]
  },
  {
   "cell_type": "code",
   "execution_count": 12,
   "metadata": {},
   "outputs": [],
   "source": [
    "## Import necessary library to load data and preprocess the data\n",
    "from llama_index.core import SimpleDirectoryReader\n",
    "from langchain_core.documents import Document\n",
    "from langchain.docstore.document import Document\n",
    "from transformers import AutoTokenizer\n",
    "from langchain.text_splitter import RecursiveCharacterTextSplitter\n",
    "## Initialize file path from where the data is to be loaded\n",
    "directory_path = \"../dataset/extracted_best/\"\n",
    "## load all the markdownfiles\n",
    "markdown_files = SimpleDirectoryReader(input_files=[\"c:/Users/s.vijaykumar/Desktop/skanda/bot/dataset/extracted_best/AMM1.md\"]).load_data()\n",
    "## Restructure the data format\n",
    "# empty variable to store the processed data\n",
    "new_documents = []\n",
    "for document in markdown_files:\n",
    "    page_content = document.text\n",
    "    new_document = Document(page_content=page_content)## I removed the metadata to reduce for this instance\n",
    "    new_documents.append(new_document)\n",
    "MARKDOWN_SEPARATORS = [\n",
    "    \"\\n#{1,6} \",\n",
    "    \"```\\n\",\n",
    "    \"\\n\\\\*\\\\*\\\\*+\\n\",\n",
    "    \"\\n---+\\n\",\n",
    "    \"\\n___+\\n\",\n",
    "    \"\\n\\n\",\n",
    "    \"\\n\",\n",
    "    \" \",\n",
    "    \"\",\"[\",\"]\"\n",
    "]\n",
    "## tokenizer model\n",
    "tokenizer = AutoTokenizer.from_pretrained(\"BAAI/bge-en-icl\")\n",
    "text_splitter = RecursiveCharacterTextSplitter.from_huggingface_tokenizer(\n",
    "    tokenizer,\n",
    "    chunk_size=200,\n",
    "    chunk_overlap=30,\n",
    "    strip_whitespace=True,\n",
    "    separators=MARKDOWN_SEPARATORS\n",
    ")\n",
    "## chunkning the documents into smaller size\n",
    "from tqdm import tqdm\n",
    "documents3 = text_splitter.split_documents(new_documents)"
   ]
  },
  {
   "cell_type": "code",
   "execution_count": 13,
   "metadata": {},
   "outputs": [],
   "source": [
    "from langchain_experimental.graph_transformers import LLMGraphTransformer\n",
    "## Initilize class to transform the data into nodes and relationships \n",
    "llm_transformer = LLMGraphTransformer(llm=llm)\n",
    "graph_documents = llm_transformer.convert_to_graph_documents(documents3)"
   ]
  },
  {
   "cell_type": "code",
   "execution_count": 14,
   "metadata": {},
   "outputs": [
    {
     "data": {
      "text/plain": [
       "22"
      ]
     },
     "execution_count": 14,
     "metadata": {},
     "output_type": "execute_result"
    }
   ],
   "source": [
    "len(graph_documents)"
   ]
  },
  {
   "cell_type": "code",
   "execution_count": 15,
   "metadata": {},
   "outputs": [
    {
     "data": {
      "text/plain": [
       "GraphDocument(nodes=[Node(id='Amm Connector', type='Connector', properties={}), Node(id='C R E A T I V E', type='Concept', properties={}), Node(id='I N T E R C O N N E C T', type='Concept', properties={}), Node(id='S O L U T I O N S', type='Concept', properties={}), Node(id='1 Mm Pitch', type='Attribute', properties={}), Node(id='Irresistibly Small', type='Attribute', properties={}), Node(id='Keep Your Connection Simple', type='Attribute', properties={}), Node(id='Available Off The Shelf', type='Attribute', properties={})], relationships=[Relationship(source=Node(id='Amm Connector', type='Connector', properties={}), target=Node(id='C R E A T I V E', type='Concept', properties={}), type='RELATED_TO', properties={}), Relationship(source=Node(id='Amm Connector', type='Connector', properties={}), target=Node(id='I N T E R C O N N E C T', type='Concept', properties={}), type='RELATED_TO', properties={}), Relationship(source=Node(id='Amm Connector', type='Connector', properties={}), target=Node(id='S O L U T I O N S', type='Concept', properties={}), type='RELATED_TO', properties={}), Relationship(source=Node(id='Amm Connector', type='Connector', properties={}), target=Node(id='1 Mm Pitch', type='Attribute', properties={}), type='HAS_ATTRIBUTE', properties={}), Relationship(source=Node(id='Amm Connector', type='Connector', properties={}), target=Node(id='Irresistibly Small', type='Attribute', properties={}), type='HAS_ATTRIBUTE', properties={}), Relationship(source=Node(id='Amm Connector', type='Connector', properties={}), target=Node(id='Keep Your Connection Simple', type='Attribute', properties={}), type='HAS_ATTRIBUTE', properties={}), Relationship(source=Node(id='Amm Connector', type='Connector', properties={}), target=Node(id='Available Off The Shelf', type='Attribute', properties={}), type='HAS_ATTRIBUTE', properties={})], source=Document(metadata={}, page_content='AMM connector\\r\\n\\r\\nC R E A T I V E\\r\\n\\r\\nI N T E R C O N N E C T\\r\\n\\r\\nS O L U T I O N S\\r\\n\\r\\n1 MM PITCH size of AMM connector\\r\\n\\r\\nIRRESISTIBLY SMALL\\r\\n\\r\\n|KEEP YOUR CONNECTION SIMPLE| \\r\\n\\r\\n|available OFF THE SHELF|'))"
      ]
     },
     "execution_count": 15,
     "metadata": {},
     "output_type": "execute_result"
    }
   ],
   "source": [
    "graph_documents[0]"
   ]
  },
  {
   "cell_type": "code",
   "execution_count": 18,
   "metadata": {},
   "outputs": [
    {
     "data": {
      "text/plain": [
       "[Node(id='Amm Connector', type='Connector', properties={}),\n",
       " Node(id='C R E A T I V E', type='Concept', properties={}),\n",
       " Node(id='I N T E R C O N N E C T', type='Concept', properties={}),\n",
       " Node(id='S O L U T I O N S', type='Concept', properties={}),\n",
       " Node(id='1 Mm Pitch', type='Attribute', properties={}),\n",
       " Node(id='Irresistibly Small', type='Attribute', properties={}),\n",
       " Node(id='Keep Your Connection Simple', type='Attribute', properties={}),\n",
       " Node(id='Available Off The Shelf', type='Attribute', properties={})]"
      ]
     },
     "execution_count": 18,
     "metadata": {},
     "output_type": "execute_result"
    }
   ],
   "source": [
    "graph_documents[0].nodes"
   ]
  },
  {
   "cell_type": "code",
   "execution_count": 19,
   "metadata": {},
   "outputs": [
    {
     "data": {
      "text/plain": [
       "[Relationship(source=Node(id='Amm Connector', type='Connector', properties={}), target=Node(id='C R E A T I V E', type='Concept', properties={}), type='RELATED_TO', properties={}),\n",
       " Relationship(source=Node(id='Amm Connector', type='Connector', properties={}), target=Node(id='I N T E R C O N N E C T', type='Concept', properties={}), type='RELATED_TO', properties={}),\n",
       " Relationship(source=Node(id='Amm Connector', type='Connector', properties={}), target=Node(id='S O L U T I O N S', type='Concept', properties={}), type='RELATED_TO', properties={}),\n",
       " Relationship(source=Node(id='Amm Connector', type='Connector', properties={}), target=Node(id='1 Mm Pitch', type='Attribute', properties={}), type='HAS_ATTRIBUTE', properties={}),\n",
       " Relationship(source=Node(id='Amm Connector', type='Connector', properties={}), target=Node(id='Irresistibly Small', type='Attribute', properties={}), type='HAS_ATTRIBUTE', properties={}),\n",
       " Relationship(source=Node(id='Amm Connector', type='Connector', properties={}), target=Node(id='Keep Your Connection Simple', type='Attribute', properties={}), type='HAS_ATTRIBUTE', properties={}),\n",
       " Relationship(source=Node(id='Amm Connector', type='Connector', properties={}), target=Node(id='Available Off The Shelf', type='Attribute', properties={}), type='HAS_ATTRIBUTE', properties={})]"
      ]
     },
     "execution_count": 19,
     "metadata": {},
     "output_type": "execute_result"
    }
   ],
   "source": [
    "graph_documents[0].relationships"
   ]
  },
  {
   "cell_type": "code",
   "execution_count": 20,
   "metadata": {},
   "outputs": [],
   "source": [
    "## Loading the extracted transformed graph into the neo4j graph database\n",
    "graph.add_graph_documents(\n",
    "    graph_documents,\n",
    "    baseEntityLabel=True,\n",
    "    include_source=True\n",
    ")"
   ]
  },
  {
   "cell_type": "code",
   "execution_count": 22,
   "metadata": {},
   "outputs": [
    {
     "data": {
      "application/vnd.jupyter.widget-view+json": {
       "model_id": "c2c9ea361cc249e8b9edfe02a5ff67a2",
       "version_major": 2,
       "version_minor": 0
      },
      "text/plain": [
       "GraphWidget(layout=Layout(height='800px', width='100%'))"
      ]
     },
     "metadata": {},
     "output_type": "display_data"
    }
   ],
   "source": [
    "from neo4j import GraphDatabase\n",
    "from yfiles_jupyter_graphs import GraphWidget\n",
    "## Visualize the graph database using 3rd party widges\n",
    "def showGraph():\n",
    "    driver = GraphDatabase.driver(\n",
    "        uri = os.environ[\"NEO4J_URI\"],\n",
    "        auth = (os.environ[\"NEO4J_USERNAME\"],\n",
    "                os.environ[\"NEO4J_PASSWORD\"]))\n",
    "    session = driver.session()\n",
    "    widget = GraphWidget(graph = session.run(\"MATCH (s)-[r:!MENTIONS]->(t) RETURN s,r,t\").graph())\n",
    "    widget.node_label_mapping = 'id'\n",
    "    return widget\n",
    "\n",
    "showGraph()"
   ]
  },
  {
   "cell_type": "code",
   "execution_count": 23,
   "metadata": {},
   "outputs": [],
   "source": [
    "# ## Experimentation with open available data\n",
    "# movies_query = \"\"\"\n",
    "# LOAD CSV WITH HEADERS FROM \n",
    "# 'https://raw.githubusercontent.com/tomasonjo/blog-datasets/main/movies/movies_small.csv'\n",
    "# AS row\n",
    "# MERGE (c:Movie {id:row.movieId})\n",
    "# SET m.released = date(row.released),\n",
    "#     m.title = row.title,\n",
    "#     m.imdbRating = toFloat(row.imdbRating)\n",
    "# FOREACH (director in split(row.director, '|') | \n",
    "#     MERGE (p:Person {name:trim(director)})\n",
    "#     MERGE (p)-[:DIRECTED]->(m))\n",
    "# FOREACH (actor in split(row.actors, '|') | \n",
    "#     MERGE (p:Person {name:trim(actor)})\n",
    "#     MERGE (p)-[:ACTED_IN]->(m))\n",
    "# FOREACH (genre in split(row.genres, '|') | \n",
    "#     MERGE (g:Genre {name:trim(genre)})\n",
    "#     MERGE (m)-[:IN_GENRE]->(g))\n",
    "# \"\"\"\n",
    "# graph.query(movies_query)\n",
    "# graph.refresh_schema()\n",
    "# print(graph.schema)"
   ]
  },
  {
   "cell_type": "code",
   "execution_count": 24,
   "metadata": {},
   "outputs": [
    {
     "data": {
      "text/plain": [
       "GraphCypherQAChain(verbose=True, graph=<langchain_community.graphs.neo4j_graph.Neo4jGraph object at 0x00000203F12EA690>, cypher_generation_chain=LLMChain(verbose=False, prompt=PromptTemplate(input_variables=['question', 'schema'], input_types={}, partial_variables={}, template='Task:Generate Cypher statement to query a graph database.\\nInstructions:\\nUse only the provided relationship types and properties in the schema.\\nDo not use any other relationship types or properties that are not provided.\\nSchema:\\n{schema}\\nNote: Do not include any explanations or apologies in your responses.\\nDo not respond to any questions that might ask anything else than for you to construct a Cypher statement.\\nDo not include any text except the generated Cypher statement.\\n\\nThe question is:\\n{question}'), llm=ChatGroq(client=<groq.resources.chat.completions.Completions object at 0x00000203A21FA240>, async_client=<groq.resources.chat.completions.AsyncCompletions object at 0x00000203A21FADE0>, model_name='llama-3.1-70b-versatile', model_kwargs={}, groq_api_key=SecretStr('**********')), output_parser=StrOutputParser(), llm_kwargs={}), qa_chain=LLMChain(verbose=False, prompt=PromptTemplate(input_variables=['context', 'question'], input_types={}, partial_variables={}, template=\"You are an assistant that helps to form nice and human understandable answers.\\nThe information part contains the provided information that you must use to construct an answer.\\nThe provided information is authoritative, you must never doubt it or try to use your internal knowledge to correct it.\\nMake the answer sound as a response to the question. Do not mention that you based the result on the given information.\\nHere is an example:\\n\\nQuestion: Which managers own Neo4j stocks?\\nContext:[manager:CTL LLC, manager:JANE STREET GROUP LLC]\\nHelpful Answer: CTL LLC, JANE STREET GROUP LLC owns Neo4j stocks.\\n\\nFollow this example when generating answers.\\nIf the provided information is empty, say that you don't know the answer.\\nInformation:\\n{context}\\n\\nQuestion: {question}\\nHelpful Answer:\"), llm=ChatGroq(client=<groq.resources.chat.completions.Completions object at 0x00000203A21FA240>, async_client=<groq.resources.chat.completions.AsyncCompletions object at 0x00000203A21FADE0>, model_name='llama-3.1-70b-versatile', model_kwargs={}, groq_api_key=SecretStr('**********')), output_parser=StrOutputParser(), llm_kwargs={}), graph_schema='Node properties are the following:\\nMovie {id: STRING, released: DATE, title: STRING, imdbRating: FLOAT},Person {name: STRING},Genre {name: STRING},Document {id: STRING, text: STRING},Component {id: STRING},Product {id: STRING},Specification {id: STRING},Packaging {id: STRING},Dimension {id: STRING},Wire {id: STRING},Connector {id: STRING},Material {id: STRING},Vibration severity {id: STRING},Shock {id: STRING},Mechanical operation {id: STRING},Contact resistance {id: STRING},Temperature cycling {id: STRING},Property {id: STRING},Value {id: STRING},Configuration {id: STRING},Concept {id: STRING},Industry {id: STRING},Series {id: STRING},Gender {id: STRING},Lf contact type {id: STRING},Lf contact nbr {id: STRING},Fixing {id: STRING},Mating part (fixing) {id: STRING},Pcb layout {id: STRING},Component type {id: STRING},Feature {id: STRING},Signal wire {id: STRING},Color {id: STRING},Shape & potting {id: STRING},Config {id: STRING},Cable length (mm) {id: STRING},Pcb type {id: STRING},Parameter {id: STRING},Organization {id: STRING},Location {id: STRING},Phone number {id: STRING},Email {id: STRING},Country {id: STRING},Telephone {id: STRING},Email address {id: STRING},Website {id: STRING}\\nRelationship properties are the following:\\n\\nThe relationships are the following:\\n(:Movie)-[:IN_GENRE]->(:Genre),(:Person)-[:DIRECTED]->(:Movie),(:Person)-[:ACTED_IN]->(:Movie),(:Document)-[:MENTIONS]->(:Component),(:Document)-[:MENTIONS]->(:Product),(:Document)-[:MENTIONS]->(:Specification),(:Document)-[:MENTIONS]->(:Packaging),(:Document)-[:MENTIONS]->(:Dimension),(:Document)-[:MENTIONS]->(:Wire),(:Document)-[:MENTIONS]->(:Connector),(:Document)-[:MENTIONS]->(:Document),(:Document)-[:MENTIONS]->(:Material),(:Document)-[:MENTIONS]->(:Lf contact nbr),(:Document)-[:MENTIONS]->(:Vibration severity),(:Document)-[:MENTIONS]->(:Shock),(:Document)-[:MENTIONS]->(:Mechanical operation),(:Document)-[:MENTIONS]->(:Contact resistance),(:Document)-[:MENTIONS]->(:Temperature cycling),(:Document)-[:MENTIONS]->(:Property),(:Document)-[:MENTIONS]->(:Value),(:Document)-[:MENTIONS]->(:Configuration),(:Document)-[:MENTIONS]->(:Concept),(:Document)-[:MENTIONS]->(:Industry),(:Document)-[:MENTIONS]->(:Series),(:Document)-[:MENTIONS]->(:Gender),(:Document)-[:MENTIONS]->(:Lf contact type),(:Document)-[:MENTIONS]->(:Fixing),(:Document)-[:MENTIONS]->(:Mating part (fixing)),(:Document)-[:MENTIONS]->(:Pcb layout),(:Document)-[:MENTIONS]->(:Component type),(:Document)-[:MENTIONS]->(:Feature),(:Document)-[:MENTIONS]->(:Signal wire),(:Document)-[:MENTIONS]->(:Color),(:Document)-[:MENTIONS]->(:Shape & potting),(:Document)-[:MENTIONS]->(:Config),(:Document)-[:MENTIONS]->(:Cable length (mm)),(:Document)-[:MENTIONS]->(:Pcb type),(:Document)-[:MENTIONS]->(:Parameter),(:Document)-[:MENTIONS]->(:Organization),(:Document)-[:MENTIONS]->(:Location),(:Document)-[:MENTIONS]->(:Phone number),(:Document)-[:MENTIONS]->(:Email),(:Document)-[:MENTIONS]->(:Country),(:Document)-[:MENTIONS]->(:Telephone),(:Document)-[:MENTIONS]->(:Email address),(:Document)-[:MENTIONS]->(:Website),(:Document)-[:RELATED_TO]->(:Connector),(:Component)-[:COMPONENT_OF]->(:Specification),(:Component)-[:COMPONENT_OF]->(:Wire),(:Component)-[:CONNECTED_TO]->(:Component),(:Component)-[:CONNECTED_TO]->(:Mating part (fixing)),(:Component)-[:HAS_GENDER]->(:Gender),(:Component)-[:HAS_LF_CONTACT_TYPE]->(:Lf contact type),(:Component)-[:HAS_LF_CONTACT_NBR]->(:Specification),(:Component)-[:HAS_LF_CONTACT_NBR]->(:Lf contact nbr),(:Component)-[:HAS_FIXING]->(:Fixing),(:Component)-[:HAS_MATINGS_PART]->(:Component),(:Component)-[:HAS_MATINGS_PART]->(:Mating part (fixing)),(:Component)-[:SPECIFIED_BY]->(:Specification),(:Component)-[:SPECIFIED_BY]->(:Lf contact nbr),(:Component)-[:PART_OF]->(:Pcb layout),(:Component)-[:TYPE]->(:Component type),(:Component)-[:HAS_FEATURE]->(:Feature),(:Product)-[:HAS_FEATURE]->(:Feature),(:Product)-[:ASSOCIATED_WITH]->(:Specification),(:Product)-[:ASSOCIATED_WITH]->(:Lf contact nbr),(:Product)-[:ASSOCIATED_WITH]->(:Component),(:Product)-[:ASSOCIATED_WITH]->(:Gender),(:Product)-[:ASSOCIATED_WITH]->(:Signal wire),(:Product)-[:ASSOCIATED_WITH]->(:Color),(:Product)-[:ASSOCIATED_WITH]->(:Shape & potting),(:Product)-[:ASSOCIATED_WITH]->(:Fixing),(:Product)-[:ASSOCIATED_WITH]->(:Config),(:Product)-[:ASSOCIATED_WITH]->(:Cable length (mm)),(:Product)-[:HAS_SPECIFICATION]->(:Specification),(:Product)-[:HAS_SPECIFICATION]->(:Signal wire),(:Product)-[:HAS_COMPONENT]->(:Component),(:Product)-[:HAS_COMPONENT]->(:Gender),(:Product)-[:HAS_COMPONENT]->(:Fixing),(:Product)-[:HAS_COMPONENT]->(:Config),(:Product)-[:HAS_COLOR]->(:Color),(:Product)-[:ALTERNATIVE_SPECIFICATION]->(:Specification),(:Specification)-[:CONNECTED_TO]->(:Connector),(:Wire)-[:CONNECTED_TO]->(:Connector),(:Connector)-[:HAS]->(:Component),(:Property)-[:HAS_VALUE]->(:Value),(:Property)-[:CONFIGURATION_OF]->(:Configuration),(:Concept)-[:INCLUDES]->(:Industry),(:Concept)-[:RELATED_TO]->(:Concept),(:Series)-[:CONNECTED_TO]->(:Component),(:Series)-[:CONNECTED_TO]->(:Mating part (fixing)),(:Series)-[:HAS_GENDER]->(:Gender),(:Series)-[:HAS_LF_CONTACT_TYPE]->(:Lf contact type),(:Series)-[:HAS_LF_CONTACT_NBR]->(:Specification),(:Series)-[:HAS_LF_CONTACT_NBR]->(:Lf contact nbr),(:Series)-[:HAS_FIXING]->(:Fixing),(:Series)-[:HAS_MATINGS_PART]->(:Component),(:Series)-[:HAS_MATINGS_PART]->(:Mating part (fixing)),(:Series)-[:SPECIFIED_BY]->(:Specification),(:Series)-[:SPECIFIED_BY]->(:Lf contact nbr),(:Series)-[:PART_OF]->(:Pcb layout),(:Series)-[:TYPE]->(:Component type),(:Series)-[:HAS_FEATURE]->(:Feature),(:Series)-[:ASSOCIATED_WITH]->(:Specification),(:Series)-[:ASSOCIATED_WITH]->(:Lf contact nbr),(:Series)-[:ASSOCIATED_WITH]->(:Component),(:Series)-[:ASSOCIATED_WITH]->(:Gender),(:Series)-[:ASSOCIATED_WITH]->(:Signal wire),(:Series)-[:ASSOCIATED_WITH]->(:Color),(:Series)-[:ASSOCIATED_WITH]->(:Shape & potting),(:Series)-[:ASSOCIATED_WITH]->(:Fixing),(:Series)-[:ASSOCIATED_WITH]->(:Config),(:Series)-[:ASSOCIATED_WITH]->(:Cable length (mm)),(:Series)-[:HAS_SPECIFICATION]->(:Specification),(:Series)-[:HAS_SPECIFICATION]->(:Signal wire),(:Series)-[:HAS_COMPONENT]->(:Component),(:Series)-[:HAS_COMPONENT]->(:Gender),(:Series)-[:HAS_COMPONENT]->(:Fixing),(:Series)-[:HAS_COMPONENT]->(:Config),(:Series)-[:HAS_COLOR]->(:Color),(:Series)-[:ALTERNATIVE_SPECIFICATION]->(:Specification),(:Mating part (fixing))-[:CONNECTED_TO]->(:Component),(:Mating part (fixing))-[:PART_OF]->(:Pcb layout),(:Pcb type)-[:HAS_DIMENSION]->(:Dimension),(:Organization)-[:MEMBER_OF]->(:Organization),(:Phone number)-[:BELONGS_TO]->(:Location),(:Phone number)-[:PHONE_NUMBER]->(:Country),(:Email)-[:CONTACT]->(:Country),(:Email)-[:BELONGS_TO]->(:Location),(:Country)-[:ASSOCIATED_WITH]->(:Phone number),(:Country)-[:ASSOCIATED_WITH]->(:Email),(:Country)-[:ASSOCIATED_WITH]->(:Telephone)', allow_dangerous_requests=True)"
      ]
     },
     "execution_count": 24,
     "metadata": {},
     "output_type": "execute_result"
    }
   ],
   "source": [
    "from langchain_community.chains.graph_qa.cypher import GraphCypherQAChain\n",
    "## Define a cypher chain which helps in retrieval in graph database \n",
    "chain = GraphCypherQAChain.from_llm(graph=graph, llm=llm, verbose=True,allow_dangerous_requests=True)\n",
    "chain"
   ]
  },
  {
   "cell_type": "code",
   "execution_count": 30,
   "metadata": {},
   "outputs": [
    {
     "name": "stderr",
     "output_type": "stream",
     "text": [
      "Error in StdOutCallbackHandler.on_chain_start callback: AttributeError(\"'NoneType' object has no attribute 'get'\")\n"
     ]
    },
    {
     "name": "stdout",
     "output_type": "stream",
     "text": [
      "Generated Cypher:\n",
      "\u001b[32;1m\u001b[1;3mMATCH (n:Concept)-[:INCLUDES]->(m:Industry) RETURN m\u001b[0m\n",
      "Full Context:\n",
      "\u001b[32;1m\u001b[1;3m[{'m': {'id': 'Civil Harsh Defence'}}, {'m': {'id': 'Harsh Industrial'}}, {'m': {'id': 'Avionics Industrial & Security'}}]\u001b[0m\n",
      "\n",
      "\u001b[1m> Finished chain.\u001b[0m\n"
     ]
    },
    {
     "data": {
      "text/plain": [
       "{'query': 'What are the target market?',\n",
       " 'result': 'The target markets are Civil Harsh Defence, Harsh Industrial, and Avionics Industrial & Security.'}"
      ]
     },
     "execution_count": 30,
     "metadata": {},
     "output_type": "execute_result"
    }
   ],
   "source": [
    "## Query inference\n",
    "response = chain.invoke({\"query\": \"What are the target market?\"})\n",
    "response"
   ]
  },
  {
   "cell_type": "code",
   "execution_count": null,
   "metadata": {},
   "outputs": [],
   "source": []
  }
 ],
 "metadata": {
  "kernelspec": {
   "display_name": "venv",
   "language": "python",
   "name": "python3"
  },
  "language_info": {
   "codemirror_mode": {
    "name": "ipython",
    "version": 3
   },
   "file_extension": ".py",
   "mimetype": "text/x-python",
   "name": "python",
   "nbconvert_exporter": "python",
   "pygments_lexer": "ipython3",
   "version": "3.12.4"
  }
 },
 "nbformat": 4,
 "nbformat_minor": 2
}
